{
 "cells": [
  {
   "cell_type": "markdown",
   "metadata": {
    "toc": true
   },
   "source": [
    "<h1>Table of Contents<span class=\"tocSkip\"></span></h1>\n",
    "<div class=\"toc\"><ul class=\"toc-item\"><li><span><a href=\"#数据量\" data-toc-modified-id=\"数据量-1\"><span class=\"toc-item-num\">1&nbsp;&nbsp;</span>数据量</a></span></li><li><span><a href=\"#预处理与生成辅助文件\" data-toc-modified-id=\"预处理与生成辅助文件-2\"><span class=\"toc-item-num\">2&nbsp;&nbsp;</span>预处理与生成辅助文件</a></span></li><li><span><a href=\"#训练集和测试集\" data-toc-modified-id=\"训练集和测试集-3\"><span class=\"toc-item-num\">3&nbsp;&nbsp;</span>训练集和测试集</a></span></li><li><span><a href=\"#标的数据\" data-toc-modified-id=\"标的数据-4\"><span class=\"toc-item-num\">4&nbsp;&nbsp;</span>标的数据</a></span></li><li><span><a href=\"#用户基本信息数据\" data-toc-modified-id=\"用户基本信息数据-5\"><span class=\"toc-item-num\">5&nbsp;&nbsp;</span>用户基本信息数据</a></span></li><li><span><a href=\"#用户画像\" data-toc-modified-id=\"用户画像-6\"><span class=\"toc-item-num\">6&nbsp;&nbsp;</span>用户画像</a></span></li><li><span><a href=\"#用户行为日志\" data-toc-modified-id=\"用户行为日志-7\"><span class=\"toc-item-num\">7&nbsp;&nbsp;</span>用户行为日志</a></span></li><li><span><a href=\"#用户借款日志\" data-toc-modified-id=\"用户借款日志-8\"><span class=\"toc-item-num\">8&nbsp;&nbsp;</span>用户借款日志</a></span></li></ul></div>"
   ]
  },
  {
   "cell_type": "code",
   "execution_count": 17,
   "metadata": {},
   "outputs": [],
   "source": [
    "from functions import *"
   ]
  },
  {
   "cell_type": "code",
   "execution_count": 157,
   "metadata": {},
   "outputs": [],
   "source": [
    "from config import *\n",
    "from functions import *\n",
    "import numpy as np\n",
    "import pandas as pd\n",
    "import matplotlib.pyplot as plt\n",
    "import warnings\n",
    "import json\n",
    "warnings.filterwarnings('ignore')\n",
    "pd.set_option('display.max_columns', None)\n",
    "pd.set_option('display.max_rows', None)\n",
    "pd.set_option('max_colwidth',100)"
   ]
  },
  {
   "cell_type": "markdown",
   "metadata": {},
   "source": [
    "# 数据量"
   ]
  },
  {
   "cell_type": "code",
   "execution_count": 2,
   "metadata": {
    "scrolled": true
   },
   "outputs": [
    {
     "name": "stdout",
     "output_type": "stream",
     "text": [
      "test (130000, 5)\n",
      "train (1000000, 7)\n",
      "listing_info (5484891, 6)\n",
      "user_info (954209, 8)\n",
      "user_behavior_logs (55781271, 3)\n",
      "user_taglist (615160, 3)\n",
      "user_repay_logs (18001297, 7)\n"
     ]
    }
   ],
   "source": [
    "## 各个文件数据量\n",
    "str_names = ['test', 'train', 'listing_info', 'user_info', 'user_behavior_logs', 'user_taglist', 'user_repay_logs']\n",
    "for name in str_names:\n",
    "    locals()['df_'+name] = pd.read_csv(path_data+locals()['file_'+name])\n",
    "    print(name, locals()['df_'+name].shape)"
   ]
  },
  {
   "cell_type": "markdown",
   "metadata": {},
   "source": [
    "# 预处理与生成辅助文件"
   ]
  },
  {
   "cell_type": "code",
   "execution_count": 20,
   "metadata": {},
   "outputs": [],
   "source": [
    "# 训练集预处理\n",
    "df_train = df_train.sort_values(by=['user_id', 'listing_id', 'auditing_date', 'repay_date']) # 按照(用户 标的 成交日期 还款日期排序)\n",
    "df_train.replace({r'\\N':np.nan}, inplace=True) # 缺失值处理\n",
    "df_train['repay_interval'] = df_train['due_date'] + ':' + df_train['repay_date']\n",
    "df_train['repay_interval'] = df_train['repay_interval'].apply(get_repay_interval) # 计算还款日期举例最晚还款日的间隔\n",
    "df_train['is_repay'] = df_train['repay_date'].apply(lambda x: 0 if x is np.nan else 1) # 是否逾期"
   ]
  },
  {
   "cell_type": "code",
   "execution_count": 35,
   "metadata": {},
   "outputs": [],
   "source": [
    "# 生成文件：训练集标的信息\n",
    "df_listing_info_train = df_listing_info[df_listing_info.listing_id.isin(df_train.listing_id.unique())].copy()\n",
    "df_listing_info_train.to_csv(path_data+file_listing_info_train, index=None)\n",
    "\n",
    "# 生成文件：测试集标的信息\n",
    "df_listing_info_test = df_listing_info[df_listing_info.listing_id.isin(df_test.listing_id.unique())].copy()\n",
    "df_listing_info_test.to_csv(path_data+file_listing_info_test, index=None)"
   ]
  },
  {
   "cell_type": "code",
   "execution_count": 37,
   "metadata": {},
   "outputs": [],
   "source": [
    "# 生成文件：训练集用户日志信息\n",
    "df_user_repay_logs_train = df_user_repay_logs[df_user_repay_logs.user_id.isin(df_train.user_id.unique())].copy()\n",
    "df_user_repay_logs_train.to_csv(path_data+file_user_repay_logs_train, index=None)\n",
    "\n",
    "# 生成文件：测试集用户日志信息\n",
    "df_user_repay_logs_test = df_user_repay_logs[df_user_repay_logs.user_id.isin(df_test.user_id.unique())].copy()\n",
    "df_user_repay_logs_test.to_csv(path_data+file_user_repay_logs_test, index=None)"
   ]
  },
  {
   "cell_type": "code",
   "execution_count": 7,
   "metadata": {},
   "outputs": [],
   "source": [
    "# 生成文件：用户最后一次修改后的基本信息\n",
    "df_user_info_last_update = df_user_info[['user_id', 'insertdate']]\n",
    "df_user_info_last_update['insertdate'] = df_user_info_last_update['insertdate'].apply(get_time_string)\n",
    "df_user_info_last_update = df_user_info_last_update.groupby('user_id').agg(lambda x:':'.join(x)).reset_index()\n",
    "df_user_info_last_update['insertdate'] = df_user_info_last_update['insertdate'].apply(get_max_time)\n",
    "df_user_info['insertdate'] = df_user_info['insertdate'].apply(get_time_string)\n",
    "df_user_info_last_date = pd.merge(df_user_info_last_update, df_user_info, how='left', on=['user_id', 'insertdate'])\n",
    "df_user_info_last_date.to_csv(path_data + file_user_info_last_date, index=None)"
   ]
  },
  {
   "cell_type": "code",
   "execution_count": 44,
   "metadata": {},
   "outputs": [],
   "source": [
    "# 生成文件：训练集用户信息\n",
    "df_user_info_train = df_user_info_last_date[df_user_info_last_date.user_id.isin(df_train.user_id.unique())].copy()\n",
    "df_user_info_train.to_csv(path_data+file_user_info_train, index=None)\n",
    "\n",
    "# 生成文件：测试集用户信息\n",
    "df_user_info_test = df_user_info_last_date[df_user_info_last_date.user_id.isin(df_test.user_id.unique())].copy()\n",
    "df_user_info_test.to_csv(path_data+file_user_info_test, index=None)"
   ]
  },
  {
   "cell_type": "code",
   "execution_count": 137,
   "metadata": {},
   "outputs": [],
   "source": [
    "# 生成文件：用户最新的用户画像\n",
    "df_user_taglist_last_update = df_user_taglist[['user_id', 'insertdate']]\n",
    "df_user_taglist_last_update['insertdate'] = df_user_taglist_last_update['insertdate'].apply(get_time_string)\n",
    "df_user_taglist_last_update = df_user_taglist_last_update.groupby('user_id').agg(lambda x:':'.join(x)).reset_index()\n",
    "df_user_taglist_last_update['insertdate'] = df_user_taglist_last_update['insertdate'].apply(get_max_time)\n",
    "df_user_taglist['insertdate'] = df_user_taglist['insertdate'].apply(get_time_string)\n",
    "df_user_taglist_last_date = pd.merge(df_user_taglist_last_update, df_user_taglist, how='left', on=['user_id', 'insertdate'])\n",
    "df_user_taglist_last_date.to_csv(path_data + file_user_taglist_last_date, index=None)"
   ]
  },
  {
   "cell_type": "code",
   "execution_count": 158,
   "metadata": {},
   "outputs": [],
   "source": [
    "# 保存tags\n",
    "taglist = (set(x.split('|')) for x in df_user_taglist_last_date.taglist)\n",
    "tags = sorted(set.union(*taglist))\n",
    "with open(path_data+file_tags, 'w') as f:\n",
    "    json.dump(tags, f)"
   ]
  },
  {
   "cell_type": "markdown",
   "metadata": {},
   "source": [
    "# 训练集和测试集"
   ]
  },
  {
   "cell_type": "code",
   "execution_count": 15,
   "metadata": {},
   "outputs": [
    {
     "name": "stdout",
     "output_type": "stream",
     "text": [
      "train 823732\n",
      "test 130000\n",
      "user_info 928195\n",
      "user_behavior_logs 920161\n",
      "user_taglist 535380\n",
      "user_repay_logs 874841\n"
     ]
    }
   ],
   "source": [
    "# 用户的重合率\n",
    "num_train_user_id = len(df_train.user_id.unique())\n",
    "num_test_user_id = len(df_test.user_id.unique())\n",
    "num_user_info_user_id = len(df_user_info.user_id.unique())\n",
    "num_user_behavior_logs_user_id = len(df_user_behavior_logs.user_id.unique())\n",
    "num_user_taglist_user_id = len(df_user_taglist.user_id.unique())\n",
    "num_user_repay_logs_user_id = len(df_user_repay_logs.user_id.unique())\n",
    "print('train', num_train_user_id) # 训练集有一个user有很多标的\n",
    "print('test', num_test_user_id) # 测试集user都只有一个标的\n",
    "print('user_info', num_user_info_user_id)\n",
    "print('user_behavior_logs', num_user_behavior_logs_user_id)\n",
    "print('user_taglist', num_user_taglist_user_id)\n",
    "print('user_repay_logs', num_user_repay_logs_user_id)"
   ]
  },
  {
   "cell_type": "code",
   "execution_count": 163,
   "metadata": {},
   "outputs": [
    {
     "name": "stdout",
     "output_type": "stream",
     "text": [
      "train & test 25537\n",
      "user info & train 823732\n",
      "user info & test 130000\n",
      "user info & user behavior logs 920161\n",
      "user info & user taglist 535380\n",
      "user info & user repay logs 874841\n",
      "user repay logs & train 779298\n",
      "user repay logs & test 121080\n",
      "user behavior logs & train 817350\n",
      "user behavior logs & test 128348\n"
     ]
    }
   ],
   "source": [
    "num_train_test_user_id = len(set(df_train.user_id.unique()) & set(df_test.user_id.unique()))\n",
    "num_train_user_info_user_id = len(set(df_train.user_id.unique()) & set(df_user_info.user_id.unique()))\n",
    "num_test_user_info_user_id = len(set(df_test.user_id.unique()) & set(df_user_info.user_id.unique()))\n",
    "num_user_info_user_behavior_logs_user_id = len(set(df_user_behavior_logs.user_id.unique()) & set(df_user_info.user_id.unique()))\n",
    "num_user_info_user_taglist_user_id = len(set(df_user_taglist.user_id.unique()) & set(df_user_info.user_id.unique()))\n",
    "num_user_info_user_repay_logs_user_id = len(set(df_user_repay_logs.user_id.unique()) & set(df_user_info.user_id.unique()))\n",
    "num_train_user_repay_logs_user_id = len(set(df_user_repay_logs.user_id.unique()) & set(df_train.user_id.unique()))\n",
    "num_test_user_repay_logs_user_id = len(set(df_user_repay_logs.user_id.unique()) & set(df_test.user_id.unique()))\n",
    "num_train_user_behavior_logs_user_id = len(set(df_user_behavior_logs.user_id.unique()) & set(df_train.user_id.unique()))\n",
    "num_test_user_behavior_logs_user_id = len(set(df_user_behavior_logs.user_id.unique()) & set(df_test.user_id.unique()))\n",
    "\n",
    "print('train & test', num_train_test_user_id) # 训练集和测试集有2万用户重合\n",
    "print('user info & train', num_train_user_info_user_id) \n",
    "print('user info & test', num_test_user_info_user_id)\n",
    "print('user info & user behavior logs', num_user_info_user_behavior_logs_user_id)\n",
    "print('user info & user taglist', num_user_info_user_taglist_user_id)\n",
    "print('user info & user repay logs', num_user_info_user_repay_logs_user_id) # 所有记录都出现在user info中\n",
    "print('user repay logs & train', num_train_user_repay_logs_user_id) # 训练集中大多数用户都在借款日志中\n",
    "print('user repay logs & test', num_test_user_repay_logs_user_id) # 测试集大多数用户都在借款日志中\n",
    "print('user behavior logs & train', num_train_user_behavior_logs_user_id) # 训练集中大多数用户都在行为日志中\n",
    "print('user behavior logs & test', num_test_user_behavior_logs_user_id) # 测试集大多数用户都在行为日志中"
   ]
  },
  {
   "cell_type": "code",
   "execution_count": 113,
   "metadata": {},
   "outputs": [
    {
     "name": "stdout",
     "output_type": "stream",
     "text": [
      "num (1000000, 5)\n",
      "agg num (1000000, 5)\n"
     ]
    }
   ],
   "source": [
    "# 还款次数\n",
    "repay_time = df_train[['user_id', 'listing_id', 'auditing_date', 'due_amt', 'repay_amt']]\n",
    "print('num', repay_time.shape)\n",
    "repay_time = repay_time.groupby(['user_id', 'listing_id', 'auditing_date', 'due_amt']).agg(lambda x:'+'.join(x)).reset_index()\n",
    "print('agg num', repay_time.shape) # 训练集中都是一次还清"
   ]
  },
  {
   "cell_type": "code",
   "execution_count": 112,
   "metadata": {},
   "outputs": [
    {
     "name": "stdout",
     "output_type": "stream",
     "text": [
      "no repay 117192\n"
     ]
    }
   ],
   "source": [
    "# 逾期还款的记录数\n",
    "print('no repay', df_train['repay_date'].isnull().sum())"
   ]
  },
  {
   "cell_type": "code",
   "execution_count": 114,
   "metadata": {
    "scrolled": false
   },
   "outputs": [],
   "source": [
    "# 还款日最晚还款日期间隔的分布\n",
    "plt.bar(df_train.repay_interval.value_counts().sort_index().index, height=df_train.repay_interval.value_counts().sort_index())\n",
    "plt.show() # 大部分为还款日当天还"
   ]
  },
  {
   "cell_type": "code",
   "execution_count": 116,
   "metadata": {
    "scrolled": true
   },
   "outputs": [
    {
     "name": "stdout",
     "output_type": "stream",
     "text": [
      "(-1.356, 1898.41]         979073\n",
      "(1898.41, 3779.366]        18336\n",
      "(3779.366, 5660.323]        1970\n",
      "(5660.323, 7541.279]         480\n",
      "(7541.279, 9422.236]         108\n",
      "(9422.236, 11303.192]         26\n",
      "(11303.192, 13184.149]         5\n",
      "(13184.149, 15065.105]         0\n",
      "(15065.105, 16946.062]         1\n",
      "(16946.062, 18827.018]         1\n",
      "Name: due_amt, dtype: int64\n"
     ]
    }
   ],
   "source": [
    "# 训练集还款金额的分布\n",
    "cut_due_amt = pd.cut(df_train.due_amt, 10)\n",
    "print(cut_due_amt.value_counts().sort_index())"
   ]
  },
  {
   "cell_type": "code",
   "execution_count": 117,
   "metadata": {
    "scrolled": true
   },
   "outputs": [
    {
     "name": "stdout",
     "output_type": "stream",
     "text": [
      "(39.606, 1550.922]        125753\n",
      "(1550.922, 3047.273]        3624\n",
      "(3047.273, 4543.625]         487\n",
      "(4543.625, 6039.976]          95\n",
      "(6039.976, 7536.328]          31\n",
      "(7536.328, 9032.68]            5\n",
      "(9032.68, 10529.031]           3\n",
      "(10529.031, 12025.383]         1\n",
      "(12025.383, 13521.735]         0\n",
      "(13521.735, 15018.086]         1\n",
      "Name: due_amt, dtype: int64\n"
     ]
    }
   ],
   "source": [
    "# 测试集还款金额的分布\n",
    "cut_due_amt = pd.cut(df_test.due_amt, 10)\n",
    "print(cut_due_amt.value_counts().sort_index())"
   ]
  },
  {
   "cell_type": "code",
   "execution_count": 126,
   "metadata": {},
   "outputs": [
    {
     "name": "stdout",
     "output_type": "stream",
     "text": [
      "--repay---\n",
      "count    882808.000000\n",
      "mean        449.180055\n",
      "std         511.738357\n",
      "min          17.453300\n",
      "25%         159.114700\n",
      "50%         285.112600\n",
      "75%         539.494500\n",
      "max       18827.018400\n",
      "Name: due_amt, dtype: float64\n",
      "---not repay---\n",
      "count    117192.000000\n",
      "mean        473.469849\n",
      "std         531.908495\n",
      "min          30.958100\n",
      "25%         168.272400\n",
      "50%         300.341800\n",
      "75%         571.932500\n",
      "max       16553.338000\n",
      "Name: due_amt, dtype: float64\n"
     ]
    }
   ],
   "source": [
    "# 不还款和还款的记录，它们的借款分布是否相同\n",
    "print('--repay---')\n",
    "print(df_train[df_train.is_repay == 1].due_amt.describe())\n",
    "print('---not repay---')\n",
    "print(df_train[df_train.is_repay == 0].due_amt.describe()) # 分布没有什么明显的差别"
   ]
  },
  {
   "cell_type": "markdown",
   "metadata": {},
   "source": [
    "# 标的数据"
   ]
  },
  {
   "cell_type": "code",
   "execution_count": 137,
   "metadata": {},
   "outputs": [
    {
     "name": "stdout",
     "output_type": "stream",
     "text": [
      "train 1000000\n",
      "test 130000\n",
      "listing_info 5484891\n",
      "user_repay_logs 4216576\n"
     ]
    }
   ],
   "source": [
    "# 标的重合率\n",
    "num_train_listing_id = len(df_train.listing_id.unique())\n",
    "num_test_listing_id = len(df_test.listing_id.unique())\n",
    "num_listing_info_listing_id = len(df_listing_info.listing_id.unique())\n",
    "num_user_repay_logs_listing_id = len(df_user_repay_logs.listing_id.unique())\n",
    "print('train', num_train_listing_id) # 训练集标的都唯一\n",
    "print('test', num_test_listing_id) # 测试集标的都唯一\n",
    "print('listing_info', num_listing_info_listing_id)\n",
    "print('user_repay_logs', num_user_repay_logs_listing_id)"
   ]
  },
  {
   "cell_type": "code",
   "execution_count": 142,
   "metadata": {},
   "outputs": [
    {
     "name": "stdout",
     "output_type": "stream",
     "text": [
      "train & test 0\n",
      "listing_info & train 1000000\n",
      "listing_info & test 130000\n",
      "user_repay_logs & train 172610\n",
      "user_repay_logs & test 0\n"
     ]
    }
   ],
   "source": [
    "num_train_test_listing_id = len(set(df_train.listing_id.unique()) & set(df_test.listing_id.unique()))\n",
    "num_train_listing_info_listing_id = len(set(df_train.listing_id.unique()) & set(df_listing_info.listing_id.unique()))\n",
    "num_test_listing_info_listing_id = len(set(df_test.listing_id.unique()) & set(df_listing_info.listing_id.unique()))\n",
    "num_train_user_repay_logs_listing_id = len(set(df_train.listing_id.unique()) & set(df_user_repay_logs.listing_id.unique()))\n",
    "num_test_user_repay_logs_listing_id = len(set(df_test.listing_id.unique()) & set(df_user_repay_logs.listing_id.unique()))\n",
    "print('train & test', num_train_test_listing_id) # 训练集和测试集没有标的是相同的\n",
    "print('listing_info & train', num_train_listing_info_listing_id) # 训练集都有标的信息\n",
    "print('listing_info & test', num_test_listing_info_listing_id) # 测试集都有标的信息\n",
    "print('user_repay_logs & train', num_train_user_repay_logs_listing_id)# 训练集的标的有17万有日志\n",
    "print('user_repay_logs & test', num_test_user_repay_logs_listing_id) # 测试集的标的没有日志"
   ]
  },
  {
   "cell_type": "code",
   "execution_count": 183,
   "metadata": {},
   "outputs": [
    {
     "name": "stdout",
     "output_type": "stream",
     "text": [
      "6     2393016\n",
      "12    1372299\n",
      "9     1302618\n",
      "3      416958\n",
      "Name: term, dtype: int64\n"
     ]
    }
   ],
   "source": [
    "# 期限的分布\n",
    "print(df_listing_info.term.value_counts())"
   ]
  },
  {
   "cell_type": "code",
   "execution_count": 188,
   "metadata": {},
   "outputs": [
    {
     "name": "stdout",
     "output_type": "stream",
     "text": [
      "(54.3, 11250.0]       5347654\n",
      "(11250.0, 22390.0]     129784\n",
      "(22390.0, 33530.0]       6767\n",
      "(33530.0, 44670.0]        588\n",
      "(44670.0, 55810.0]         98\n",
      "Name: principal, dtype: int64\n"
     ]
    }
   ],
   "source": [
    "# 本金的分布\n",
    "cut_listing_principal= pd.cut(df_listing_info.principal, 5)\n",
    "print(cut_listing_principal.value_counts().sort_index())"
   ]
  },
  {
   "cell_type": "code",
   "execution_count": 190,
   "metadata": {},
   "outputs": [
    {
     "name": "stdout",
     "output_type": "stream",
     "text": [
      "(6.497, 7.06]     301762\n",
      "(7.06, 7.62]     2217877\n",
      "(7.62, 8.18]      666136\n",
      "(8.18, 8.74]     1743795\n",
      "(8.74, 9.3]       555321\n",
      "Name: rate, dtype: int64\n"
     ]
    }
   ],
   "source": [
    "# 利率的分布\n",
    "cut_listing_rate = pd.cut(df_listing_info.rate, 5)\n",
    "print(cut_listing_rate.value_counts().sort_index())"
   ]
  },
  {
   "cell_type": "markdown",
   "metadata": {},
   "source": [
    "# 用户基本信息数据"
   ]
  },
  {
   "cell_type": "code",
   "execution_count": 4,
   "metadata": {},
   "outputs": [],
   "source": [
    "df_user_info_last_date = pd.read_csv(path_data + file_user_info_last_date)"
   ]
  },
  {
   "cell_type": "code",
   "execution_count": 29,
   "metadata": {},
   "outputs": [
    {
     "name": "stdout",
     "output_type": "stream",
     "text": [
      "男    636349\n",
      "女    291846\n",
      "Name: gender, dtype: int64\n"
     ]
    }
   ],
   "source": [
    "# 性别分布\n",
    "print(df_user_info_last_date.gender.value_counts())"
   ]
  },
  {
   "cell_type": "code",
   "execution_count": 9,
   "metadata": {},
   "outputs": [
    {
     "data": {
      "text/plain": [
       "2     80957\n",
       "3    604660\n",
       "Name: count, dtype: int64"
      ]
     },
     "execution_count": 9,
     "metadata": {},
     "output_type": "execute_result"
    }
   ],
   "source": [
    "gender_repay[gender_repay.gender == '男']['count']"
   ]
  },
  {
   "cell_type": "code",
   "execution_count": 11,
   "metadata": {},
   "outputs": [],
   "source": [
    "is_repay = df_train[['user_id', 'is_repay']]\n",
    "user_gender = df_user_info_last_date[['user_id', 'gender']]\n",
    "gender_repay = pd.merge(is_repay, user_gender, on='user_id', how='left')\n",
    "gender_repay['count'] = 1\n",
    "gender_repay = gender_repay.groupby(['gender', 'is_repay'])['count'].agg(sum).reset_index()\n",
    "gender_repay.loc[gender_repay.gender == '男' ,'count'] = gender_repay['count'] / sum(gender_repay[gender_repay.gender == '男']['count'])\n",
    "gender_repay.loc[gender_repay.gender == '女' ,'count'] = gender_repay['count'] / sum(gender_repay[gender_repay.gender == '女']['count']) # 男女在还贷能力方面没有差异"
   ]
  },
  {
   "cell_type": "code",
   "execution_count": 12,
   "metadata": {},
   "outputs": [
    {
     "name": "stdout",
     "output_type": "stream",
     "text": [
      "  gender  is_repay     count\n",
      "0      女         0  0.115258\n",
      "1      女         1  0.884742\n",
      "2      男         0  0.118079\n",
      "3      男         1  0.881921\n"
     ]
    }
   ],
   "source": [
    "print(gender_repay)"
   ]
  },
  {
   "cell_type": "code",
   "execution_count": 38,
   "metadata": {},
   "outputs": [
    {
     "name": "stdout",
     "output_type": "stream",
     "text": [
      "---男---\n",
      "count    604660.000000\n",
      "mean          4.148163\n",
      "std           7.364535\n",
      "min           0.000000\n",
      "25%           0.000000\n",
      "50%           1.000000\n",
      "75%           4.000000\n",
      "max          31.000000\n",
      "Name: repay_interval, dtype: float64\n",
      "---女---\n",
      "count    278148.000000\n",
      "mean          4.139882\n",
      "std           7.380120\n",
      "min           0.000000\n",
      "25%           0.000000\n",
      "50%           1.000000\n",
      "75%           4.000000\n",
      "max          31.000000\n",
      "Name: repay_interval, dtype: float64\n"
     ]
    }
   ],
   "source": [
    "# 男女在还贷时间上的差异\n",
    "is_repay = df_train[['user_id', 'repay_interval']]\n",
    "user_gender = df_user_info_last_date[['user_id', 'gender']]\n",
    "gender_repay = pd.merge(is_repay, user_gender, on='user_id', how='left')\n",
    "gender_repay.dropna(inplace=True)\n",
    "print('---男---')\n",
    "print(gender_repay[gender_repay.gender == '男'].repay_interval.describe())\n",
    "print('---女---')\n",
    "print(gender_repay[gender_repay.gender == '女'].repay_interval.describe()) # 男女在还款日期上也没有差异"
   ]
  },
  {
   "cell_type": "code",
   "execution_count": 117,
   "metadata": {},
   "outputs": [],
   "source": [
    "# 年龄分布\n",
    "is_repay = df_train[['user_id', 'is_repay']]\n",
    "user_age = df_user_info_last_date[['user_id', 'age']]\n",
    "age_repay_train = pd.merge(is_repay, user_age, on='user_id', how='left')\n",
    "age_repay_test = pd.merge(df_test, user_age, on='user_id', how='left')"
   ]
  },
  {
   "cell_type": "code",
   "execution_count": 118,
   "metadata": {},
   "outputs": [
    {
     "data": {
      "image/png": "[encoded data removed]",
      "text/plain": [
       "<Figure size 576x144 with 3 Axes>"
      ]
     },
     "metadata": {},
     "output_type": "display_data"
    }
   ],
   "source": [
    "fig = plt.figure(figsize=(8, 2))\n",
    "ax1 = fig.add_subplot(1,3,1)\n",
    "plt.title('总体')\n",
    "plt.plot(df_user_info_last_date.age.value_counts().sort_index())\n",
    "ax2 = fig.add_subplot(1,3,2)\n",
    "plt.title('训练集')\n",
    "plt.plot(age_repay_train.age.value_counts().sort_index())\n",
    "ax3 = fig.add_subplot(1,3,3)\n",
    "plt.title('测试集')\n",
    "plt.plot(age_repay_test.age.value_counts().sort_index())\n",
    "plt.show() # 用户信息和训练集采样分布一致"
   ]
  },
  {
   "cell_type": "code",
   "execution_count": 119,
   "metadata": {},
   "outputs": [
    {
     "name": "stdout",
     "output_type": "stream",
     "text": [
      "count    928195.000000\n",
      "mean         29.473072\n",
      "std           7.042113\n",
      "min          18.000000\n",
      "25%          24.000000\n",
      "50%          28.000000\n",
      "75%          33.000000\n",
      "max          56.000000\n",
      "Name: age, dtype: float64\n"
     ]
    }
   ],
   "source": [
    "# 所有用户的年龄分布\n",
    "print(user_age.age.describe())"
   ]
  },
  {
   "cell_type": "code",
   "execution_count": 120,
   "metadata": {},
   "outputs": [
    {
     "name": "stdout",
     "output_type": "stream",
     "text": [
      "   cut_age  is_repay     count\n",
      "0        1         0  0.104095\n",
      "1        1         1  0.895905\n",
      "2        2         0  0.119104\n",
      "3        2         1  0.880896\n",
      "4        3         0  0.127291\n",
      "5        3         1  0.872709\n",
      "6        4         0  0.119494\n",
      "7        4         1  0.880506\n",
      "8        5         0  0.112089\n",
      "9        5         1  0.887911\n",
      "10       6         0  0.107835\n",
      "11       6         1  0.892165\n",
      "12       7         0  0.104896\n",
      "13       7         1  0.895104\n",
      "14       8         0  0.099992\n",
      "15       8         1  0.900008\n",
      "16       9         0  0.104335\n",
      "17       9         1  0.895665\n",
      "18      10         0  0.108077\n",
      "19      10         1  0.891923\n"
     ]
    }
   ],
   "source": [
    "# 年龄和是否还款的关系\n",
    "age_repay_train['cut_age'] = pd.cut(age_repay_train.age, 10, labels=[str(x) for x in range(1, 11)]) # 将年龄切10份\n",
    "age_repay_train['count'] = 1\n",
    "age_repay_train = age_repay_train.groupby(['cut_age', 'is_repay'])['count'].agg(sum).reset_index()\n",
    "for i in range(1, 11):\n",
    "    age_repay_train.loc[age_repay_train.cut_age == str(i) ,'count'] = age_repay_train['count'] / sum(age_repay_train[age_repay_train.cut_age == str(i)]['count'])\n",
    "print(age_repay_train) # 每个年龄中分布还算比较自然"
   ]
  },
  {
   "cell_type": "code",
   "execution_count": null,
   "metadata": {},
   "outputs": [],
   "source": [
    "# 年龄和还款间隔的关系\n",
    "age_repay_train['cut_age'] = pd.cut(age_repay_train.age, 10, labels=[str(x) for x in range(1, 11)]) # 将年龄切10份\n",
    "age_repay_train['count'] = 1\n",
    "age_repay_train = age_repay_train.groupby(['cut_age', 'is_repay'])['count'].agg(sum).reset_index()\n",
    "for i in range(1, 11):\n",
    "    age_repay_train.loc[age_repay_train.cut_age == str(i) ,'count'] = age_repay_train['count'] / sum(age_repay_train[age_repay_train.cut_age == str(i)]['count'])\n",
    "print(age_repay_train) # 每个年龄中分布还算比较自然"
   ]
  },
  {
   "cell_type": "code",
   "execution_count": 125,
   "metadata": {},
   "outputs": [
    {
     "name": "stdout",
     "output_type": "stream",
     "text": [
      "['c01', 'c02', 'c03', 'c04', 'c05', 'c06', 'c07', 'c08', 'c09', 'c10', 'c11', 'c12', 'c13', 'c14', 'c15', 'c16', 'c17', 'c18', 'c19', 'c20', 'c21', 'c22', 'c23', 'c24', 'c25', 'c26', 'c27', 'c28', 'c29', 'c30', 'c31']\n",
      "['\\\\N', 'c01', 'c02', 'c03', 'c04', 'c05', 'c06', 'c07', 'c08', 'c09', 'c10', 'c11', 'c12', 'c13', 'c14', 'c15', 'c16', 'c17', 'c18', 'c19', 'c20', 'c21', 'c22', 'c23', 'c24', 'c25', 'c26', 'c27', 'c28', 'c29', 'c30', 'c31']\n"
     ]
    }
   ],
   "source": [
    "# 省份\n",
    "print(sorted(df_user_info_train.id_province.unique())) # 身份证\n",
    "print(sorted(df_user_info_train.cell_province.unique())) # 手机(有为空的)"
   ]
  },
  {
   "cell_type": "markdown",
   "metadata": {},
   "source": [
    "# 用户画像"
   ]
  },
  {
   "cell_type": "code",
   "execution_count": null,
   "metadata": {},
   "outputs": [],
   "source": [
    "df_user_taglist_last_date = pd.read_csv(path_data + file_user_taglist_last_date)\n",
    "with open(path_data+file_tags, 'r') as f:\n",
    "    tags = json.load(f)"
   ]
  },
  {
   "cell_type": "code",
   "execution_count": 141,
   "metadata": {},
   "outputs": [
    {
     "name": "stdout",
     "output_type": "stream",
     "text": [
      "False\n"
     ]
    }
   ],
   "source": [
    "# 用户画像文件中，用户是否唯一\n",
    "print(df_user_taglist.user_id.is_unique)"
   ]
  },
  {
   "cell_type": "code",
   "execution_count": 142,
   "metadata": {
    "scrolled": true
   },
   "outputs": [
    {
     "name": "stdout",
     "output_type": "stream",
     "text": [
      "True\n"
     ]
    }
   ],
   "source": [
    "# 生成的最后一次用户画像中，用户是否唯一\n",
    "print(df_user_taglist_last_date.user_id.is_unique)"
   ]
  },
  {
   "cell_type": "code",
   "execution_count": 161,
   "metadata": {},
   "outputs": [
    {
     "name": "stdout",
     "output_type": "stream",
     "text": [
      "tags num 5986\n"
     ]
    }
   ],
   "source": [
    "# 标签的数量\n",
    "print('tags num', len(tags))"
   ]
  },
  {
   "cell_type": "markdown",
   "metadata": {},
   "source": [
    "# 用户行为日志"
   ]
  },
  {
   "cell_type": "code",
   "execution_count": 164,
   "metadata": {},
   "outputs": [
    {
     "name": "stdout",
     "output_type": "stream",
     "text": [
      "1    43469932\n",
      "2     1007660\n",
      "3    11303679\n",
      "Name: behavior_type, dtype: int64\n"
     ]
    }
   ],
   "source": [
    "# 每个行为的数量\n",
    "print(df_user_behavior_logs.behavior_type.value_counts().sort_index())"
   ]
  },
  {
   "cell_type": "markdown",
   "metadata": {},
   "source": [
    "# 用户借款日志\n",
    "\n",
    "略"
   ]
  },
  {
   "cell_type": "code",
   "execution_count": 3,
   "metadata": {},
   "outputs": [
    {
     "data": {
      "text/plain": [
       "1     2768985\n",
       "2     2596756\n",
       "3     2441694\n",
       "4     2100723\n",
       "5     2020128\n",
       "6     1954558\n",
       "7      862387\n",
       "8      836167\n",
       "9      816723\n",
       "12     540007\n",
       "11     533457\n",
       "10     529712\n",
       "Name: order_id, dtype: int64"
      ]
     },
     "execution_count": 3,
     "metadata": {},
     "output_type": "execute_result"
    }
   ],
   "source": [
    "import pandas as pd\n",
    "from config import *\n",
    "\n",
    "a = pd.read_csv(path_data + file_user_repay_logs)\n",
    "a.order_id.value_counts()"
   ]
  },
  {
   "cell_type": "code",
   "execution_count": 37,
   "metadata": {},
   "outputs": [
    {
     "data": {
      "text/html": [
       "<div>\n",
       "<style scoped>\n",
       "    .dataframe tbody tr th:only-of-type {\n",
       "        vertical-align: middle;\n",
       "    }\n",
       "\n",
       "    .dataframe tbody tr th {\n",
       "        vertical-align: top;\n",
       "    }\n",
       "\n",
       "    .dataframe thead th {\n",
       "        text-align: right;\n",
       "    }\n",
       "</style>\n",
       "<table border=\"1\" class=\"dataframe\">\n",
       "  <thead>\n",
       "    <tr style=\"text-align: right;\">\n",
       "      <th></th>\n",
       "      <th>listing_id</th>\n",
       "      <th>repay_amt</th>\n",
       "      <th>repay_date</th>\n",
       "    </tr>\n",
       "  </thead>\n",
       "  <tbody>\n",
       "    <tr>\n",
       "      <th>0</th>\n",
       "      <td>5431438</td>\n",
       "      <td>4.3309</td>\n",
       "      <td>2019-03-12</td>\n",
       "    </tr>\n",
       "    <tr>\n",
       "      <th>1</th>\n",
       "      <td>5431438</td>\n",
       "      <td>4.3309</td>\n",
       "      <td>2019-03-13</td>\n",
       "    </tr>\n",
       "    <tr>\n",
       "      <th>2</th>\n",
       "      <td>5431438</td>\n",
       "      <td>4.3309</td>\n",
       "      <td>2019-03-14</td>\n",
       "    </tr>\n",
       "    <tr>\n",
       "      <th>3</th>\n",
       "      <td>5431438</td>\n",
       "      <td>4.3309</td>\n",
       "      <td>2019-03-15</td>\n",
       "    </tr>\n",
       "    <tr>\n",
       "      <th>4</th>\n",
       "      <td>5431438</td>\n",
       "      <td>4.3309</td>\n",
       "      <td>2019-03-16</td>\n",
       "    </tr>\n",
       "  </tbody>\n",
       "</table>\n",
       "</div>"
      ],
      "text/plain": [
       "   listing_id  repay_amt  repay_date\n",
       "0     5431438     4.3309  2019-03-12\n",
       "1     5431438     4.3309  2019-03-13\n",
       "2     5431438     4.3309  2019-03-14\n",
       "3     5431438     4.3309  2019-03-15\n",
       "4     5431438     4.3309  2019-03-16"
      ]
     },
     "execution_count": 37,
     "metadata": {},
     "output_type": "execute_result"
    }
   ],
   "source": [
    "# 提交格式"
   ]
  }
 ],
 "metadata": {
  "kernelspec": {
   "display_name": "Python 3",
   "language": "python",
   "name": "python3"
  },
  "language_info": {
   "codemirror_mode": {
    "name": "ipython",
    "version": 3
   },
   "file_extension": ".py",
   "mimetype": "text/x-python",
   "name": "python",
   "nbconvert_exporter": "python",
   "pygments_lexer": "ipython3",
   "version": "3.6.5"
  },
  "toc": {
   "base_numbering": 1,
   "nav_menu": {},
   "number_sections": true,
   "sideBar": true,
   "skip_h1_title": false,
   "title_cell": "Table of Contents",
   "title_sidebar": "Contents",
   "toc_cell": true,
   "toc_position": {
    "height": "calc(100% - 180px)",
    "left": "10px",
    "top": "150px",
    "width": "230px"
   },
   "toc_section_display": true,
   "toc_window_display": true
  }
 },
 "nbformat": 4,
 "nbformat_minor": 2
}
